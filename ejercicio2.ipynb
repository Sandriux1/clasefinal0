{
 "cells": [
  {
   "cell_type": "markdown",
   "metadata": {},
   "source": [
    "\n",
    "\n",
    "\n",
    "\n",
    "\n",
    "\n",
    "# 2. Distribución de eventos por severidad\n",
    "plt.subplot(2, 2, 2)\n",
    "severidad_count = logs_df['severidad'].value_counts()\n",
    "colors = {'low': 'green', 'medium': 'blue', 'high': 'orange', 'critical': 'red'}\n",
    "plt.pie(severidad_count, labels=severidad_count.index, autopct='%1.1f%%',\n",
    "        colors=[colors[sev] for sev in severidad_count.index])\n",
    "plt.title('Distribución de Eventos por Severidad')\n",
    "\n",
    "# 3. Actividad por hora del día\n",
    "plt.subplot(2, 2, 3)\n",
    "logs_df['hour'] = logs_df['timestamp'].dt.hour\n",
    "hourly_count = logs_df.groupby('hour').size()\n",
    "sns.lineplot(x=hourly_count.index, y=hourly_count.values)\n",
    "plt.title('Actividad por Hora del Día')\n",
    "plt.xlabel('Hora')\n",
    "plt.ylabel('Número de Eventos')\n",
    "\n",
    "# 4. Eventos por día y por severidad\n",
    "plt.subplot(2, 2, 4)\n",
    "logs_df['date'] = logs_df['timestamp'].dt.date\n",
    "pivot_table = pd.crosstab(logs_df['date'], logs_df['severidad'])\n",
    "pivot_table.plot(kind='bar', stacked=True, colormap='viridis')\n",
    "plt.title('Eventos por Día y Severidad')\n",
    "plt.xlabel('Fecha')\n",
    "plt.ylabel('Número de Eventos')\n",
    "plt.xticks(rotation=45)\n",
    "\n",
    "plt.tight_layout()\n",
    "plt.savefig('security_dashboard.png')\n",
    "\n",
    "# Crear gráfico de actividad sospechosa\n",
    "plt.figure(figsize=(12, 6))\n",
    "\n",
    "# 5. Mapa de calor de actividad por hora y tipo de evento\n",
    "logs_df['hour'] = logs_df['timestamp'].dt.hour\n",
    "heatmap_data = pd.crosstab(logs_df['hour'], logs_df['evento'])\n",
    "sns.heatmap(heatmap_data, cmap='YlOrRd', annot=True, fmt='d', cbar_kws={'label': 'Número de Eventos'})\n",
    "plt.title('Eventos por Hora y Tipo')\n",
    "plt.xlabel('Tipo de Evento')\n",
    "plt.ylabel('Hora del Día')\n",
    "plt.tight_layout()\n",
    "plt.savefig('activity_heatmap.png')\n",
    "\n",
    "# 6. Análisis de accesos fallidos por usuario\n",
    "plt.figure(figsize=(10, 6))\n",
    "failed_logins = logs_df[(logs_df['evento'] == 'login_failure') & (logs_df['exitoso'] == False)]\n",
    "user_failures = failed_logins['usuario'].value_counts()\n",
    "sns.barplot(x=user_failures.index.fillna('anónimo'), y=user_failures.values)\n",
    "plt.title('Intentos de Login Fallidos por Usuario')\n",
    "plt.xlabel('Usuario')\n",
    "plt.ylabel('Número de Intentos Fallidos')\n",
    "plt.xticks(rotation=45)\n",
    "plt.tight_layout()\n",
    "plt.savefig('failed_logins_by_user.png')\n",
    "\n",
    "# 7. Línea de tiempo de eventos críticos\n",
    "plt.figure(figsize=(12, 4))\n",
    "critical_events = logs_df[logs_df['severidad'] == 'critical']\n",
    "plt.scatter(critical_events['timestamp'], [1]*len(critical_events), c='red', s=100)\n",
    "plt.yticks([])\n",
    "plt.title('Línea de Tiempo de Eventos Críticos')\n",
    "plt.xlabel('Fecha y Hora')\n",
    "plt.tight_layout()\n",
    "plt.savefig('critical_events_timeline.png')\n",
    "\n",
    "print(\"Visualizaciones generadas correctamente. Revisa los archivos .png generados.\")"
   ]
  },
  {
   "cell_type": "code",
   "execution_count": 1,
   "metadata": {},
   "outputs": [],
   "source": [
    "import pandas as pd\n",
    "import numpy as np\n",
    "import matplotlib.pyplot as plt\n",
    "import seaborn as sns"
   ]
  },
  {
   "cell_type": "code",
   "execution_count": 2,
   "metadata": {},
   "outputs": [],
   "source": [
    "# Generar 500 registros de logs simulados\n",
    "np.random.seed(42)"
   ]
  },
  {
   "cell_type": "code",
   "execution_count": 3,
   "metadata": {},
   "outputs": [],
   "source": [
    "# Lista de eventos de seguridad\n",
    "eventos = ['login_success', 'login_failure', 'file_access', 'admin_login', \n",
    "           'password_change', 'firewall_block', 'suspicious_activity', \n",
    "           'malware_detected', 'port_scan']"
   ]
  },
  {
   "cell_type": "code",
   "execution_count": 4,
   "metadata": {},
   "outputs": [],
   "source": [
    "# Generar timestamps para una semana\n",
    "fechas = pd.date_range(start='2023-01-01', periods=7)\n",
    "timestamps = []\n",
    "for fecha in fechas:\n",
    "    for hora in range(24):\n",
    "        for _ in range(3):  # 3 eventos por hora aprox\n",
    "            timestamps.append(fecha + pd.Timedelta(hours=hora) + \n",
    "                             pd.Timedelta(minutes=np.random.randint(60)))"
   ]
  },
  {
   "cell_type": "code",
   "execution_count": 5,
   "metadata": {},
   "outputs": [],
   "source": [
    "# Ajustar al número de registros deseados\n",
    "timestamps = timestamps[:500]"
   ]
  },
  {
   "cell_type": "code",
   "execution_count": 6,
   "metadata": {},
   "outputs": [],
   "source": [
    "# Generar IPs aleatorias\n",
    "def random_ip():\n",
    "    return f\"{np.random.randint(1, 256)}.{np.random.randint(1, 256)}.{np.random.randint(1, 256)}.{np.random.randint(1, 256)}\""
   ]
  },
  {
   "cell_type": "code",
   "execution_count": 7,
   "metadata": {},
   "outputs": [],
   "source": [
    "# Usuarios del sistema\n",
    "usuarios = ['admin', 'user1', 'user2', 'user3', 'system', 'guest', None]"
   ]
  },
  {
   "cell_type": "code",
   "execution_count": 8,
   "metadata": {},
   "outputs": [],
   "source": [
    "# Generar datos simulados\n",
    "data = {\n",
    "    'timestamp': timestamps,\n",
    "    'ip_origen': [random_ip() for _ in range(500)],\n",
    "    'evento': np.random.choice(eventos, 500, p=[0.3, 0.2, 0.2, 0.05, 0.05, 0.08, 0.07, 0.03, 0.02]),\n",
    "    'usuario': np.random.choice(usuarios, 500, p=[0.1, 0.2, 0.2, 0.2, 0.1, 0.1, 0.1]),\n",
    "    'severidad': np.random.choice(['low', 'medium', 'high', 'critical'], 500, p=[0.5, 0.3, 0.15, 0.05]),\n",
    "    'exitoso': np.random.choice([True, False], 500, p=[0.8, 0.2]),\n",
    "}"
   ]
  },
  {
   "cell_type": "code",
   "execution_count": 9,
   "metadata": {},
   "outputs": [],
   "source": [
    "# Crear DataFrame\n",
    "logs_df = pd.DataFrame(data)"
   ]
  },
  {
   "cell_type": "code",
   "execution_count": 10,
   "metadata": {},
   "outputs": [],
   "source": [
    "# Configurar timestamp como índice\n",
    "logs_df['timestamp'] = pd.to_datetime(logs_df['timestamp'])\n",
    "logs_df = logs_df.sort_values('timestamp')"
   ]
  },
  {
   "cell_type": "code",
   "execution_count": 11,
   "metadata": {},
   "outputs": [
    {
     "data": {
      "text/plain": [
       "<Figure size 1500x1000 with 0 Axes>"
      ]
     },
     "execution_count": 11,
     "metadata": {},
     "output_type": "execute_result"
    },
    {
     "data": {
      "text/plain": [
       "<Figure size 1500x1000 with 0 Axes>"
      ]
     },
     "metadata": {},
     "output_type": "display_data"
    }
   ],
   "source": [
    "# Ahora creamos las visualizaciones\n",
    "plt.figure(figsize=(15, 10))"
   ]
  },
  {
   "cell_type": "code",
   "execution_count": 12,
   "metadata": {},
   "outputs": [
    {
     "data": {
      "image/png": "[encoded data removed]",
      "text/plain": [
       "<Figure size 640x480 with 1 Axes>"
      ]
     },
     "metadata": {},
     "output_type": "display_data"
    }
   ],
   "source": [
    "# 1. Distribución de eventos por tipo\n",
    "plt.subplot(2, 2, 1)\n",
    "eventos_count = logs_df['evento'].value_counts()\n",
    "sns.barplot(x=eventos_count.index, y=eventos_count.values)\n",
    "plt.xticks(rotation=45, ha='right')\n",
    "plt.title('Distribución de Eventos por Tipo')\n",
    "plt.tight_layout()"
   ]
  }
 ],
 "metadata": {
  "kernelspec": {
   "display_name": "base",
   "language": "python",
   "name": "python3"
  },
  "language_info": {
   "codemirror_mode": {
    "name": "ipython",
    "version": 3
   },
   "file_extension": ".py",
   "mimetype": "text/x-python",
   "name": "python",
   "nbconvert_exporter": "python",
   "pygments_lexer": "ipython3",
   "version": "3.12.7"
  }
 },
 "nbformat": 4,
 "nbformat_minor": 2
}
